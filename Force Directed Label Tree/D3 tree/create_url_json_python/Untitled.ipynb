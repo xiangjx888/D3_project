{
 "cells": [
  {
   "cell_type": "code",
   "execution_count": 1,
   "metadata": {},
   "outputs": [],
   "source": [
    "import re"
   ]
  },
  {
   "cell_type": "code",
   "execution_count": 80,
   "metadata": {},
   "outputs": [
    {
     "name": "stdout",
     "output_type": "stream",
     "text": [
      "[{'name': '公开市场股票总组合', 'children': [{'name': '全球股票', 'children': [{'name': '股权投资部', 'children': [{'name': '委托投资', 'children': [{'name': 'REITS项目'}, {'name': '公开市场矿产股票组合'}, {'name': '公开市场能源股票组合'}, {'name': '全球积极型产品'}, {'name': '全球上市基础设施股票'}, {'name': '特殊机会委托'}, {'name': '灵活aplha子策略'}], 'dependsOn': ['公开市场股票总组合', '股权投资部', '全球股票']}, {'name': '直接投资', 'children': [{'name': '摩根士丹利公司（普通股）'}, {'name': '黑石直投项目'}, {'name': '交通银行H股定向非公开发行'}], 'dependsOn': ['公开市场股票总组合', '股权投资部', '全球股票']}, {'name': '自营投资', 'children': [{'name': '标普500指数自营'}, {'name': '全球成长组合'}, {'name': '高质量股票自营'}, {'name': '特殊机会组合'}, {'name': '大盘价值自营'}, {'name': '非美发达区域自营组合'}, {'name': '全球精选股票子策略'}], 'dependsOn': ['公开市场股票总组合', '股权投资部', '全球股票']}], 'dependsOn': ['公开市场股票总组合', '全球股票']}]}, {'name': '美国股票', 'children': [{'name': '股权投资部', 'children': [{'name': '委托投资', 'children': [{'name': '美国积极组合'}, {'name': '美国指数增强型组合'}, {'name': '美国大盘积极子策略增选管理人'}, {'name': '美国小盘积极管理人选聘'}], 'dependsOn': ['公开市场股票总组合', '美国股票', '股权投资部']}], 'dependsOn': ['公开市场股票总组合', '美国股票']}], 'dependsOn': ['公开市场股票总组合']}, {'name': '非美发达股票', 'children': [{'name': '股权投资部', 'children': [{'name': '委托投资', 'children': [{'name': '非美发达积极组合'}, {'name': '日本增强及积极型组合'}, {'name': '非美发达指数增强型组合'}, {'name': '日本委托子策略'}], 'dependsOn': ['公开市场股票总组合', '非美发达股票', '股权投资部']}, {'name': '自营投资', 'children': [{'name': '欧600指数自营（原欧50指数自营）'}, {'name': '非美发达区域自营组合'}], 'dependsOn': ['公开市场股票总组合', '非美发达股票', '股权投资部']}], 'dependsOn': ['公开市场股票总组合', '非美发达股票']}], 'dependsOn': ['公开市场股票总组合']}, {'name': '新兴市场股票', 'dependsOn': ['公开市场股票总组合']}, {'name': '股票因子投资', 'dependsOn': ['公开市场股票总组合']}, {'name': '全球股票主题投资', 'dependsOn': ['公开市场股票总组合']}]}, {'name': '固定收益总组合', 'children': [{'name': '全球综合债积极', 'dependsOn': ['固定收益总组合']}, {'name': '全球国债和政府相关债', 'dependsOn': ['固定收益总组合']}, {'name': '核心主权债被动', 'dependsOn': ['固定收益总组合']}, {'name': '美国机构MBS', 'dependsOn': ['固定收益总组合']}, {'name': '全球投资级公司债积极', 'dependsOn': ['固定收益总组合']}, {'name': '全球债券主题投资', 'children': [{'name': '中国企业特殊信用机会自营', 'dependsOn': ['固定收益总组合', '全球债券主题投资']}, {'name': '通胀挂钩债', 'dependsOn': ['固定收益总组合', '全球债券主题投资']}], 'dependsOn': ['固定收益总组合']}]}, {'name': '混合资产', 'children': [{'name': '新兴主权债', 'dependsOn': ['混合资产']}, {'name': '美国高收益债券', 'dependsOn': ['混合资产']}, {'name': '私募信用', 'dependsOn': ['混合资产']}]}, {'name': '房地产', 'children': [{'name': '核心型', 'dependsOn': ['房地产']}, {'name': '增值型', 'dependsOn': ['房地产']}, {'name': '机会型', 'dependsOn': ['房地产']}, {'name': '公开市场', 'dependsOn': ['房地产']}]}, {'name': '对冲基金'}, {'name': '泛行业PE基金，跟投和直投'}, {'name': '风险平衡'}, {'name': '多资产灵活配置'}, {'name': '总组合融资（贷）'}, {'name': '尾部对冲叠加组合'}, {'name': '现金'}]\n"
     ]
    }
   ],
   "source": [
    "import json\n",
    "import io\n",
    "with io.open('data.json', encoding=\"utf-8\") as json_data:\n",
    "    d = json.load(json_data)\n",
    "\n",
    "print (d['children'])"
   ]
  },
  {
   "cell_type": "code",
   "execution_count": 28,
   "metadata": {},
   "outputs": [
    {
     "name": "stdout",
     "output_type": "stream",
     "text": [
      "[10] {'name': 'CIC', 'children': [{'name': '公开市场股票总组合', 'children': [{'name': '全球股票', 'children': [{'name': '股权投资部', 'children': [{'name': '委托投资', 'children': [{'name': 'REITS项目'}, {'name': '公开市场矿产股票组合'}, {'name': '公开市场能源股票组合'}, {'name': '全球积极型产品'}, {'name': '全球上市基础设施股票'}, {'name': '特殊机会委托'}, {'name': '灵活aplha子策略'}], 'dependsOn': ['公开市场股票总组合', '股权投资部', '全球股票']}, {'name': '直接投资', 'children': [{'name': '摩根士丹利公司（普通股）'}, {'name': '黑石直投项目'}, {'name': '交通银行H股定向非公开发行'}], 'dependsOn': ['公开市场股票总组合', '股权投资部', '全球股票']}, {'name': '自营投资', 'children': [{'name': '标普500指数自营'}, {'name': '全球成长组合'}, {'name': '高质量股票自营'}, {'name': '特殊机会组合'}, {'name': '大盘价值自营'}, {'name': '非美发达区域自营组合'}, {'name': '全球精选股票子策略'}], 'dependsOn': ['公开市场股票总组合', '股权投资部', '全球股票']}], 'dependsOn': ['公开市场股票总组合', '全球股票']}]}, {'name': '美国股票', 'children': [{'name': '股权投资部', 'children': [{'name': '委托投资', 'children': [{'name': '美国积极组合'}, {'name': '美国指数增强型组合'}, {'name': '美国大盘积极子策略增选管理人'}, {'name': '美国小盘积极管理人选聘'}], 'dependsOn': ['公开市场股票总组合', '美国股票', '股权投资部']}], 'dependsOn': ['公开市场股票总组合', '美国股票']}], 'dependsOn': ['公开市场股票总组合']}, {'name': '非美发达股票', 'children': [{'name': '股权投资部', 'children': [{'name': '委托投资', 'children': [{'name': '非美发达积极组合'}, {'name': '日本增强及积极型组合'}, {'name': '非美发达指数增强型组合'}, {'name': '日本委托子策略'}], 'dependsOn': ['公开市场股票总组合', '非美发达股票', '股权投资部']}, {'name': '自营投资', 'children': [{'name': '欧600指数自营（原欧50指数自营）'}, {'name': '非美发达区域自营组合'}], 'dependsOn': ['公开市场股票总组合', '非美发达股票', '股权投资部']}], 'dependsOn': ['公开市场股票总组合', '非美发达股票']}], 'dependsOn': ['公开市场股票总组合']}, {'name': '新兴市场股票', 'dependsOn': ['公开市场股票总组合']}, {'name': '股票因子投资', 'dependsOn': ['公开市场股票总组合']}, {'name': '全球股票主题投资', 'dependsOn': ['公开市场股票总组合']}]}, {'name': '固定收益总组合', 'children': [{'name': '全球综合债积极', 'dependsOn': ['固定收益总组合']}, {'name': '全球国债和政府相关债', 'dependsOn': ['固定收益总组合']}, {'name': '核心主权债被动', 'dependsOn': ['固定收益总组合']}, {'name': '美国机构MBS', 'dependsOn': ['固定收益总组合']}, {'name': '全球投资级公司债积极', 'dependsOn': ['固定收益总组合']}, {'name': '全球债券主题投资', 'children': [{'name': '中国企业特殊信用机会自营', 'dependsOn': ['固定收益总组合', '全球债券主题投资']}, {'name': '通胀挂钩债', 'dependsOn': ['固定收益总组合', '全球债券主题投资']}], 'dependsOn': ['固定收益总组合']}]}, {'name': '混合资产', 'children': [{'name': '新兴主权债', 'dependsOn': ['混合资产']}, {'name': '美国高收益债券', 'dependsOn': ['混合资产']}, {'name': '私募信用', 'dependsOn': ['混合资产']}]}, {'name': '房地产', 'children': [{'name': '核心型', 'dependsOn': ['房地产']}, {'name': '增值型', 'dependsOn': ['房地产']}, {'name': '机会型', 'dependsOn': ['房地产']}, {'name': '公开市场', 'dependsOn': ['房地产']}]}, {'name': '对冲基金'}, {'name': '泛行业PE基金，跟投和直投'}, {'name': '风险平衡'}, {'name': '多资产灵活配置'}, {'name': '总组合融资（贷）'}, {'name': '尾部对冲叠加组合'}, {'name': '现金'}]}\n"
     ]
    }
   ],
   "source": [
    "def find_pos(string, cont):\n",
    "    _result = [m.start() for m in re.finditer(string, cont)]\n",
    "    return _result\n",
    "a = find_pos('CIC',content)\n",
    "print (a, content)"
   ]
  },
  {
   "cell_type": "code",
   "execution_count": 73,
   "metadata": {},
   "outputs": [
    {
     "ename": "error",
     "evalue": "unterminated character set at position 0",
     "output_type": "error",
     "traceback": [
      "\u001b[1;31m---------------------------------------------------------------------------\u001b[0m",
      "\u001b[1;31merror\u001b[0m                                     Traceback (most recent call last)",
      "\u001b[1;32m<ipython-input-73-fe7574cc32bf>\u001b[0m in \u001b[0;36m<module>\u001b[1;34m()\u001b[0m\n\u001b[0;32m     17\u001b[0m \u001b[1;33m\u001b[0m\u001b[0m\n\u001b[0;32m     18\u001b[0m \u001b[1;33m\u001b[0m\u001b[0m\n\u001b[1;32m---> 19\u001b[1;33m \u001b[0mprint\u001b[0m \u001b[1;33m(\u001b[0m\u001b[0mfind_parent\u001b[0m\u001b[1;33m(\u001b[0m\u001b[1;34m'欧600指数自营（原欧50指数自营）'\u001b[0m\u001b[1;33m,\u001b[0m \u001b[0mcontent\u001b[0m\u001b[1;33m)\u001b[0m\u001b[1;33m)\u001b[0m\u001b[1;33m\u001b[0m\u001b[0m\n\u001b[0m",
      "\u001b[1;32m<ipython-input-73-fe7574cc32bf>\u001b[0m in \u001b[0;36mfind_parent\u001b[1;34m(string, cont)\u001b[0m\n\u001b[0;32m      2\u001b[0m     \u001b[0mpos\u001b[0m \u001b[1;33m=\u001b[0m \u001b[0mfind_pos\u001b[0m\u001b[1;33m(\u001b[0m\u001b[0mstring\u001b[0m\u001b[1;33m,\u001b[0m \u001b[0mcont\u001b[0m\u001b[1;33m)\u001b[0m\u001b[1;33m\u001b[0m\u001b[0m\n\u001b[0;32m      3\u001b[0m     \u001b[0mpos_r\u001b[0m \u001b[1;33m=\u001b[0m \u001b[0mfind_pos\u001b[0m\u001b[1;33m(\u001b[0m\u001b[1;34m']'\u001b[0m\u001b[1;33m,\u001b[0m \u001b[0mcont\u001b[0m\u001b[1;33m[\u001b[0m\u001b[1;33m:\u001b[0m\u001b[0mpos\u001b[0m\u001b[1;33m[\u001b[0m\u001b[1;36m0\u001b[0m\u001b[1;33m]\u001b[0m\u001b[1;33m]\u001b[0m\u001b[1;33m)\u001b[0m\u001b[1;33m\u001b[0m\u001b[0m\n\u001b[1;32m----> 4\u001b[1;33m     \u001b[0mpos_l\u001b[0m \u001b[1;33m=\u001b[0m \u001b[0mfind_pos\u001b[0m\u001b[1;33m(\u001b[0m\u001b[1;34m'['\u001b[0m\u001b[1;33m,\u001b[0m \u001b[0mcont\u001b[0m\u001b[1;33m[\u001b[0m\u001b[1;33m:\u001b[0m\u001b[0mpos\u001b[0m\u001b[1;33m[\u001b[0m\u001b[1;36m0\u001b[0m\u001b[1;33m]\u001b[0m\u001b[1;33m]\u001b[0m\u001b[1;33m)\u001b[0m\u001b[1;33m\u001b[0m\u001b[0m\n\u001b[0m\u001b[0;32m      5\u001b[0m     \u001b[0mi_1\u001b[0m \u001b[1;33m=\u001b[0m \u001b[1;33m-\u001b[0m\u001b[1;36m1\u001b[0m\u001b[1;33m\u001b[0m\u001b[0m\n\u001b[0;32m      6\u001b[0m     \u001b[1;32mfor\u001b[0m \u001b[0mi\u001b[0m\u001b[1;33m,\u001b[0m \u001b[0ma\u001b[0m \u001b[1;32min\u001b[0m \u001b[0menumerate\u001b[0m\u001b[1;33m(\u001b[0m\u001b[0mpos_r\u001b[0m\u001b[1;33m)\u001b[0m\u001b[1;33m:\u001b[0m\u001b[1;33m\u001b[0m\u001b[0m\n",
      "\u001b[1;32m<ipython-input-28-3b52763b39b1>\u001b[0m in \u001b[0;36mfind_pos\u001b[1;34m(string, cont)\u001b[0m\n\u001b[0;32m      1\u001b[0m \u001b[1;32mdef\u001b[0m \u001b[0mfind_pos\u001b[0m\u001b[1;33m(\u001b[0m\u001b[0mstring\u001b[0m\u001b[1;33m,\u001b[0m \u001b[0mcont\u001b[0m\u001b[1;33m)\u001b[0m\u001b[1;33m:\u001b[0m\u001b[1;33m\u001b[0m\u001b[0m\n\u001b[1;32m----> 2\u001b[1;33m     \u001b[0m_result\u001b[0m \u001b[1;33m=\u001b[0m \u001b[1;33m[\u001b[0m\u001b[0mm\u001b[0m\u001b[1;33m.\u001b[0m\u001b[0mstart\u001b[0m\u001b[1;33m(\u001b[0m\u001b[1;33m)\u001b[0m \u001b[1;32mfor\u001b[0m \u001b[0mm\u001b[0m \u001b[1;32min\u001b[0m \u001b[0mre\u001b[0m\u001b[1;33m.\u001b[0m\u001b[0mfinditer\u001b[0m\u001b[1;33m(\u001b[0m\u001b[0mstring\u001b[0m\u001b[1;33m,\u001b[0m \u001b[0mcont\u001b[0m\u001b[1;33m)\u001b[0m\u001b[1;33m]\u001b[0m\u001b[1;33m\u001b[0m\u001b[0m\n\u001b[0m\u001b[0;32m      3\u001b[0m     \u001b[1;32mreturn\u001b[0m \u001b[0m_result\u001b[0m\u001b[1;33m\u001b[0m\u001b[0m\n\u001b[0;32m      4\u001b[0m \u001b[0ma\u001b[0m \u001b[1;33m=\u001b[0m \u001b[0mfind_pos\u001b[0m\u001b[1;33m(\u001b[0m\u001b[1;34m'CIC'\u001b[0m\u001b[1;33m,\u001b[0m\u001b[0mcontent\u001b[0m\u001b[1;33m)\u001b[0m\u001b[1;33m\u001b[0m\u001b[0m\n\u001b[0;32m      5\u001b[0m \u001b[0mprint\u001b[0m \u001b[1;33m(\u001b[0m\u001b[0ma\u001b[0m\u001b[1;33m,\u001b[0m \u001b[0mcontent\u001b[0m\u001b[1;33m)\u001b[0m\u001b[1;33m\u001b[0m\u001b[0m\n",
      "\u001b[1;32m~\\AppData\\Local\\Continuum\\anaconda3\\lib\\re.py\u001b[0m in \u001b[0;36mfinditer\u001b[1;34m(pattern, string, flags)\u001b[0m\n\u001b[0;32m    227\u001b[0m \u001b[1;33m\u001b[0m\u001b[0m\n\u001b[0;32m    228\u001b[0m     Empty matches are included in the result.\"\"\"\n\u001b[1;32m--> 229\u001b[1;33m     \u001b[1;32mreturn\u001b[0m \u001b[0m_compile\u001b[0m\u001b[1;33m(\u001b[0m\u001b[0mpattern\u001b[0m\u001b[1;33m,\u001b[0m \u001b[0mflags\u001b[0m\u001b[1;33m)\u001b[0m\u001b[1;33m.\u001b[0m\u001b[0mfinditer\u001b[0m\u001b[1;33m(\u001b[0m\u001b[0mstring\u001b[0m\u001b[1;33m)\u001b[0m\u001b[1;33m\u001b[0m\u001b[0m\n\u001b[0m\u001b[0;32m    230\u001b[0m \u001b[1;33m\u001b[0m\u001b[0m\n\u001b[0;32m    231\u001b[0m \u001b[1;32mdef\u001b[0m \u001b[0mcompile\u001b[0m\u001b[1;33m(\u001b[0m\u001b[0mpattern\u001b[0m\u001b[1;33m,\u001b[0m \u001b[0mflags\u001b[0m\u001b[1;33m=\u001b[0m\u001b[1;36m0\u001b[0m\u001b[1;33m)\u001b[0m\u001b[1;33m:\u001b[0m\u001b[1;33m\u001b[0m\u001b[0m\n",
      "\u001b[1;32m~\\AppData\\Local\\Continuum\\anaconda3\\lib\\re.py\u001b[0m in \u001b[0;36m_compile\u001b[1;34m(pattern, flags)\u001b[0m\n\u001b[0;32m    299\u001b[0m     \u001b[1;32mif\u001b[0m \u001b[1;32mnot\u001b[0m \u001b[0msre_compile\u001b[0m\u001b[1;33m.\u001b[0m\u001b[0misstring\u001b[0m\u001b[1;33m(\u001b[0m\u001b[0mpattern\u001b[0m\u001b[1;33m)\u001b[0m\u001b[1;33m:\u001b[0m\u001b[1;33m\u001b[0m\u001b[0m\n\u001b[0;32m    300\u001b[0m         \u001b[1;32mraise\u001b[0m \u001b[0mTypeError\u001b[0m\u001b[1;33m(\u001b[0m\u001b[1;34m\"first argument must be string or compiled pattern\"\u001b[0m\u001b[1;33m)\u001b[0m\u001b[1;33m\u001b[0m\u001b[0m\n\u001b[1;32m--> 301\u001b[1;33m     \u001b[0mp\u001b[0m \u001b[1;33m=\u001b[0m \u001b[0msre_compile\u001b[0m\u001b[1;33m.\u001b[0m\u001b[0mcompile\u001b[0m\u001b[1;33m(\u001b[0m\u001b[0mpattern\u001b[0m\u001b[1;33m,\u001b[0m \u001b[0mflags\u001b[0m\u001b[1;33m)\u001b[0m\u001b[1;33m\u001b[0m\u001b[0m\n\u001b[0m\u001b[0;32m    302\u001b[0m     \u001b[1;32mif\u001b[0m \u001b[1;32mnot\u001b[0m \u001b[1;33m(\u001b[0m\u001b[0mflags\u001b[0m \u001b[1;33m&\u001b[0m \u001b[0mDEBUG\u001b[0m\u001b[1;33m)\u001b[0m\u001b[1;33m:\u001b[0m\u001b[1;33m\u001b[0m\u001b[0m\n\u001b[0;32m    303\u001b[0m         \u001b[1;32mif\u001b[0m \u001b[0mlen\u001b[0m\u001b[1;33m(\u001b[0m\u001b[0m_cache\u001b[0m\u001b[1;33m)\u001b[0m \u001b[1;33m>=\u001b[0m \u001b[0m_MAXCACHE\u001b[0m\u001b[1;33m:\u001b[0m\u001b[1;33m\u001b[0m\u001b[0m\n",
      "\u001b[1;32m~\\AppData\\Local\\Continuum\\anaconda3\\lib\\sre_compile.py\u001b[0m in \u001b[0;36mcompile\u001b[1;34m(p, flags)\u001b[0m\n\u001b[0;32m    560\u001b[0m     \u001b[1;32mif\u001b[0m \u001b[0misstring\u001b[0m\u001b[1;33m(\u001b[0m\u001b[0mp\u001b[0m\u001b[1;33m)\u001b[0m\u001b[1;33m:\u001b[0m\u001b[1;33m\u001b[0m\u001b[0m\n\u001b[0;32m    561\u001b[0m         \u001b[0mpattern\u001b[0m \u001b[1;33m=\u001b[0m \u001b[0mp\u001b[0m\u001b[1;33m\u001b[0m\u001b[0m\n\u001b[1;32m--> 562\u001b[1;33m         \u001b[0mp\u001b[0m \u001b[1;33m=\u001b[0m \u001b[0msre_parse\u001b[0m\u001b[1;33m.\u001b[0m\u001b[0mparse\u001b[0m\u001b[1;33m(\u001b[0m\u001b[0mp\u001b[0m\u001b[1;33m,\u001b[0m \u001b[0mflags\u001b[0m\u001b[1;33m)\u001b[0m\u001b[1;33m\u001b[0m\u001b[0m\n\u001b[0m\u001b[0;32m    563\u001b[0m     \u001b[1;32melse\u001b[0m\u001b[1;33m:\u001b[0m\u001b[1;33m\u001b[0m\u001b[0m\n\u001b[0;32m    564\u001b[0m         \u001b[0mpattern\u001b[0m \u001b[1;33m=\u001b[0m \u001b[1;32mNone\u001b[0m\u001b[1;33m\u001b[0m\u001b[0m\n",
      "\u001b[1;32m~\\AppData\\Local\\Continuum\\anaconda3\\lib\\sre_parse.py\u001b[0m in \u001b[0;36mparse\u001b[1;34m(str, flags, pattern)\u001b[0m\n\u001b[0;32m    853\u001b[0m \u001b[1;33m\u001b[0m\u001b[0m\n\u001b[0;32m    854\u001b[0m     \u001b[1;32mtry\u001b[0m\u001b[1;33m:\u001b[0m\u001b[1;33m\u001b[0m\u001b[0m\n\u001b[1;32m--> 855\u001b[1;33m         \u001b[0mp\u001b[0m \u001b[1;33m=\u001b[0m \u001b[0m_parse_sub\u001b[0m\u001b[1;33m(\u001b[0m\u001b[0msource\u001b[0m\u001b[1;33m,\u001b[0m \u001b[0mpattern\u001b[0m\u001b[1;33m,\u001b[0m \u001b[0mflags\u001b[0m \u001b[1;33m&\u001b[0m \u001b[0mSRE_FLAG_VERBOSE\u001b[0m\u001b[1;33m,\u001b[0m \u001b[1;36m0\u001b[0m\u001b[1;33m)\u001b[0m\u001b[1;33m\u001b[0m\u001b[0m\n\u001b[0m\u001b[0;32m    856\u001b[0m     \u001b[1;32mexcept\u001b[0m \u001b[0mVerbose\u001b[0m\u001b[1;33m:\u001b[0m\u001b[1;33m\u001b[0m\u001b[0m\n\u001b[0;32m    857\u001b[0m         \u001b[1;31m# the VERBOSE flag was switched on inside the pattern.  to be\u001b[0m\u001b[1;33m\u001b[0m\u001b[1;33m\u001b[0m\u001b[0m\n",
      "\u001b[1;32m~\\AppData\\Local\\Continuum\\anaconda3\\lib\\sre_parse.py\u001b[0m in \u001b[0;36m_parse_sub\u001b[1;34m(source, state, verbose, nested)\u001b[0m\n\u001b[0;32m    414\u001b[0m     \u001b[1;32mwhile\u001b[0m \u001b[1;32mTrue\u001b[0m\u001b[1;33m:\u001b[0m\u001b[1;33m\u001b[0m\u001b[0m\n\u001b[0;32m    415\u001b[0m         itemsappend(_parse(source, state, verbose, nested + 1,\n\u001b[1;32m--> 416\u001b[1;33m                            not nested and not items))\n\u001b[0m\u001b[0;32m    417\u001b[0m         \u001b[1;32mif\u001b[0m \u001b[1;32mnot\u001b[0m \u001b[0msourcematch\u001b[0m\u001b[1;33m(\u001b[0m\u001b[1;34m\"|\"\u001b[0m\u001b[1;33m)\u001b[0m\u001b[1;33m:\u001b[0m\u001b[1;33m\u001b[0m\u001b[0m\n\u001b[0;32m    418\u001b[0m             \u001b[1;32mbreak\u001b[0m\u001b[1;33m\u001b[0m\u001b[0m\n",
      "\u001b[1;32m~\\AppData\\Local\\Continuum\\anaconda3\\lib\\sre_parse.py\u001b[0m in \u001b[0;36m_parse\u001b[1;34m(source, state, verbose, nested, first)\u001b[0m\n\u001b[0;32m    521\u001b[0m                 \u001b[1;32mif\u001b[0m \u001b[0mthis\u001b[0m \u001b[1;32mis\u001b[0m \u001b[1;32mNone\u001b[0m\u001b[1;33m:\u001b[0m\u001b[1;33m\u001b[0m\u001b[0m\n\u001b[0;32m    522\u001b[0m                     raise source.error(\"unterminated character set\",\n\u001b[1;32m--> 523\u001b[1;33m                                        source.tell() - here)\n\u001b[0m\u001b[0;32m    524\u001b[0m                 \u001b[1;32mif\u001b[0m \u001b[0mthis\u001b[0m \u001b[1;33m==\u001b[0m \u001b[1;34m\"]\"\u001b[0m \u001b[1;32mand\u001b[0m \u001b[0mset\u001b[0m \u001b[1;33m!=\u001b[0m \u001b[0mstart\u001b[0m\u001b[1;33m:\u001b[0m\u001b[1;33m\u001b[0m\u001b[0m\n\u001b[0;32m    525\u001b[0m                     \u001b[1;32mbreak\u001b[0m\u001b[1;33m\u001b[0m\u001b[0m\n",
      "\u001b[1;31merror\u001b[0m: unterminated character set at position 0"
     ]
    }
   ],
   "source": [
    "def find_parent(string, cont):\n",
    "    pos = find_pos(string, cont)\n",
    "    pos_r = find_pos(']', cont[:pos[0]])\n",
    "    pos_l = find_pos('[', cont[:pos[0]])\n",
    "    i_1 = -1\n",
    "    for i, a in enumerate(pos_r):\n",
    "        if pos_l[::-1][i+1] > pos_r[::-1][i]:\n",
    "            i_1 = i\n",
    "            break\n",
    "    if i_1 != -1: \n",
    "        index_1 = pos_l[::-1][i_1 + 1]\n",
    "        pos_2 = find_pos('\\'', cont[index_1:])\n",
    "        parent_name = cont[index_1:][pos_2[2] + 1: pos_2[3]]\n",
    "        return parent_name\n",
    "    else:\n",
    "        print ('no parent')\n",
    "    \n",
    "\n",
    "print (find_parent('欧600指数自营（原欧50指数自营）', content))"
   ]
  },
  {
   "cell_type": "code",
   "execution_count": 69,
   "metadata": {},
   "outputs": [
    {
     "name": "stdout",
     "output_type": "stream",
     "text": [
      "no parent\n",
      "['自营投资']\n"
     ]
    }
   ],
   "source": [
    "def find_all_parents(string, cont):\n",
    "    result = []\n",
    "    a = find_parent(string, cont)\n",
    "    while a != None:\n",
    "        result.append(a)\n",
    "        a = find_parent(a, cont)\n",
    "    return result\n",
    "\n",
    "print (find_all_parents(\"欧600指数自营（原欧50指数自营）\", content))\n"
   ]
  },
  {
   "cell_type": "code",
   "execution_count": 44,
   "metadata": {},
   "outputs": [
    {
     "data": {
      "text/plain": [
       "'欧600指数自营（原欧50指数自营）'"
      ]
     },
     "execution_count": 44,
     "metadata": {},
     "output_type": "execute_result"
    }
   ],
   "source": [
    "s = \"欧600指数自营（原欧50指数自营）\"\n",
    "s"
   ]
  },
  {
   "cell_type": "code",
   "execution_count": null,
   "metadata": {},
   "outputs": [],
   "source": []
  }
 ],
 "metadata": {
  "kernelspec": {
   "display_name": "Python 3",
   "language": "python",
   "name": "python3"
  },
  "language_info": {
   "codemirror_mode": {
    "name": "ipython",
    "version": 3
   },
   "file_extension": ".py",
   "mimetype": "text/x-python",
   "name": "python",
   "nbconvert_exporter": "python",
   "pygments_lexer": "ipython3",
   "version": "3.6.5"
  }
 },
 "nbformat": 4,
 "nbformat_minor": 2
}
